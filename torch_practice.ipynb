{
 "cells": [
  {
   "cell_type": "code",
   "execution_count": 3,
   "metadata": {},
   "outputs": [],
   "source": [
    "import torch\n",
    "import numpy as np\n",
    "\n"
   ]
  },
  {
   "cell_type": "code",
   "execution_count": 4,
   "metadata": {},
   "outputs": [
    {
     "name": "stdout",
     "output_type": "stream",
     "text": [
      "tensor([[1, 2],\n",
      "        [3, 4]])\n",
      "torch.Size([2, 2])\n",
      "torch.int64\n",
      "cpu\n"
     ]
    }
   ],
   "source": [
    "ts = torch.tensor([[1,2],[3,4]])\n",
    "print(ts)\n",
    "print(ts.shape)\n",
    "print(ts.dtype)\n",
    "print(ts.device)"
   ]
  },
  {
   "cell_type": "code",
   "execution_count": 5,
   "metadata": {},
   "outputs": [
    {
     "name": "stdout",
     "output_type": "stream",
     "text": [
      "tensor([[1, 2],\n",
      "        [3, 4],\n",
      "        [1, 2]])\n",
      "tensor([[ 5],\n",
      "        [11]])\n",
      "tensor([[1, 4],\n",
      "        [3, 8]])\n",
      "tensor([[1],\n",
      "        [2]])\n"
     ]
    }
   ],
   "source": [
    "ts2 = torch.tensor([[1,2]])\n",
    "print(torch.cat([ts,ts2],dim=0))\n",
    "print(ts.matmul(ts2.T))\n",
    "print(ts.mul(ts2))\n",
    "print(ts2.T)"
   ]
  },
  {
   "cell_type": "code",
   "execution_count": 6,
   "metadata": {},
   "outputs": [
    {
     "name": "stdout",
     "output_type": "stream",
     "text": [
      "27\n",
      "tensor([[11, 12],\n",
      "        [13, 14]])\n"
     ]
    }
   ],
   "source": [
    "print(ts2.matmul(ts.matmul(ts2.T)).item())\n",
    "print(ts.add(10))\n",
    "\n"
   ]
  },
  {
   "cell_type": "code",
   "execution_count": 7,
   "metadata": {},
   "outputs": [
    {
     "name": "stdout",
     "output_type": "stream",
     "text": [
      "tensor([2.])\n",
      "tensor([12.])\n"
     ]
    }
   ],
   "source": [
    "x = torch.tensor([1], requires_grad=True, dtype=torch.float)\n",
    "y = torch.tensor([2], requires_grad=True, dtype=torch.float)\n",
    "\n",
    "z = x**2 + y**3\n",
    "z.backward()\n",
    "print(x.grad)\n",
    "print(y.grad)"
   ]
  },
  {
   "cell_type": "code",
   "execution_count": 8,
   "metadata": {},
   "outputs": [],
   "source": [
    "import math\n",
    "from numpy import ndarray\n",
    "\n",
    "#FUNCTIONS\n",
    "\n",
    "#OPERATORS\n",
    "\n",
    "def annihilation(dimension: int) -> ndarray:\n",
    "    \"\"\"\n",
    "    Returns a dense matrix of size dimension x dimension representing the annihilation\n",
    "    operator in number basis.\n",
    "    \"\"\"\n",
    "    offdiag_elements = np.sqrt(range(1, dimension))\n",
    "    return np.diagflat(offdiag_elements, 1)\n",
    "\n",
    "def creation(dimension: int) -> ndarray:\n",
    "    \"\"\"\n",
    "    Returns a dense matrix of size dimension x dimension representing the creation\n",
    "    operator in number basis.\n",
    "    \"\"\"\n",
    "    return annihilation(dimension).T\n",
    "\n",
    "\n"
   ]
  },
  {
   "cell_type": "code",
   "execution_count": 9,
   "metadata": {},
   "outputs": [],
   "source": [
    "#MORE NOISE RELATED FUNCTIONS\n",
    "\n",
    "#T1 CAPACITIVE\n",
    "import scipy as sp\n",
    "import scipy.constants\n",
    "\n",
    "def q_cap_fun(omega) -> torch.Tensor:\n",
    "    return (\n",
    "        1e6\n",
    "        * (2 * np.pi * 6e9 / torch.abs(omega)) ** 0.7\n",
    "    )\n",
    "\n",
    "def calc_therm_ratio(\n",
    "    omega: float, T: float\n",
    ") -> torch.Tensor:\n",
    "    return (sp.constants.hbar * omega) / (sp.constants.k * T)\n",
    "\n",
    "def spectral_density_cap(omega,EJ,EC,EL,flux):\n",
    "    T = 0.015\n",
    "    therm_ratio = calc_therm_ratio(omega, T)\n",
    "    s = (\n",
    "        2\n",
    "        * 8\n",
    "        * EC\n",
    "        / q_cap_fun(omega)\n",
    "        * (1 / torch.tanh(0.5 * torch.abs(therm_ratio)))\n",
    "        / (1 + torch.exp(-therm_ratio))\n",
    "    )\n",
    "    s *= (\n",
    "        2 * np.pi\n",
    "    )  # We assume that system energies are given in units of frequency\n",
    "    return s\n",
    "\n"
   ]
  },
  {
   "cell_type": "code",
   "execution_count": 10,
   "metadata": {},
   "outputs": [],
   "source": [
    "#MORE NOISE RELATED FUNCTIONS\n",
    "\n",
    "#T1 CHARGE IMPEDANCE\n",
    "\n",
    "def spectral_density_ci(omega,EJ,EC,EL,flux):\n",
    "    # Note, our definition of Q_c is different from Zhang et al (2020) by a\n",
    "    # factor of 2\n",
    "    R_k = 50\n",
    "    T = 0.015\n",
    "\n",
    "    Q_c = R_k / (8 * np.pi * complex(R_k).real)\n",
    "    therm_ratio = calc_therm_ratio(omega, T)\n",
    "    s = (\n",
    "        2\n",
    "        * omega\n",
    "        / Q_c\n",
    "        * (1 / torch.tanh(0.5 * therm_ratio))\n",
    "        / (1 + torch.exp(-therm_ratio))\n",
    "    )\n",
    "    return s\n",
    "\n",
    "\n",
    "def spectral_density_fbl(omega,EJ,EC,EL,flux):\n",
    "    \"\"\"\n",
    "    Our definitions assume that the noise_op is dH/dflux.\n",
    "    \"\"\"\n",
    "\n",
    "    R_k = 50\n",
    "    T = 0.015\n",
    "    M = 400\n",
    "\n",
    "    therm_ratio = calc_therm_ratio(omega, T)\n",
    "\n",
    "    s = (\n",
    "        2\n",
    "        * (2 * np.pi) ** 2\n",
    "        * M**2\n",
    "        * omega\n",
    "        * sp.constants.hbar\n",
    "        / complex(R_k).real\n",
    "        * (1 / torch.tanh(0.5 * therm_ratio))\n",
    "        / (1 + torch.exp(-therm_ratio))\n",
    "    )\n",
    "    # We assume that system energies are given in units of frequency and that\n",
    "    # the noise operator to be used with this `spectral_density` is dH/dflux.\n",
    "    # Hence we have to convert  2 powers of frequency to standard units\n",
    "    s *= 1e9 ** 2.0\n",
    "    return s\n",
    "\n"
   ]
  },
  {
   "cell_type": "code",
   "execution_count": 11,
   "metadata": {},
   "outputs": [],
   "source": [
    "def q_ind_fun(omega):\n",
    "    T = 0.015\n",
    "\n",
    "    therm_ratio = abs(calc_therm_ratio(omega, T))\n",
    "    therm_ratio_500MHz = calc_therm_ratio(\n",
    "        torch.tensor(2 * np.pi * 500e6), T\n",
    "    )\n",
    "    \n",
    "    return (\n",
    "        500e6\n",
    "        * (\n",
    "            torch.special.scaled_modified_bessel_k0(1 / 2 * therm_ratio_500MHz)\n",
    "            * torch.sinh(1 / 2 * therm_ratio_500MHz)\n",
    "            / torch.exp(1 / 2 * therm_ratio_500MHz)\n",
    "        )\n",
    "        / (\n",
    "            torch.special.scaled_modified_bessel_k0(1 / 2 * therm_ratio)\n",
    "            * torch.sinh(1 / 2 * therm_ratio)\n",
    "            / torch.exp(1 / 2 * therm_ratio)\n",
    "        )\n",
    "    )\n",
    "\n",
    "def spectral_density_ind(omega,EJ,EC,EL,flux):\n",
    "    T = 0.015\n",
    "    therm_ratio = calc_therm_ratio(omega,T)\n",
    "    s = (\n",
    "        2\n",
    "        * EL\n",
    "        / q_ind_fun(omega)\n",
    "        * (1 / torch.tanh(0.5 * torch.abs(therm_ratio)))\n",
    "        / (1 + torch.exp(-therm_ratio))\n",
    "    )\n",
    "    s *= (\n",
    "        2 * np.pi\n",
    "    )  # We assume that system energies are given in units of frequency\n",
    "    return s"
   ]
  },
  {
   "cell_type": "code",
   "execution_count": 12,
   "metadata": {},
   "outputs": [],
   "source": [
    "#GENERAL T1 function\n",
    "from numpy import ndarray \n",
    "from typing import Any, Callable, Dict, List, Optional, Tuple, Union, cast\n",
    "\n",
    "def t1(\n",
    "        noise_op: torch.Tensor,\n",
    "        spectral_density: Callable,\n",
    "        eigvals: torch.Tensor,\n",
    "        eigvecs: torch.Tensor,\n",
    "        EJ: torch.Tensor,\n",
    "        EC: torch.Tensor,\n",
    "        EL: torch.Tensor,\n",
    "        flux: torch.Tensor,\n",
    "        i: int = 1,\n",
    "        j: int = 0\n",
    "    ):\n",
    "\n",
    "        # We assume that the energies in `evals` are given in the units of frequency\n",
    "        # and *not* angular frequency. The function `spectral_density` is assumed to\n",
    "        # take as a parameter an angular frequency, hence we have to convert.\n",
    "\n",
    "\n",
    "        ground = eigvecs[:,j]\n",
    "        excited = eigvecs[:,i]\n",
    "        ground_E = eigvals[j]\n",
    "        excited_E = eigvals[i]\n",
    "\n",
    "        omega = 2 * np.pi * (excited_E - ground_E) * 1e9\n",
    "\n",
    "        s = (\n",
    "            spectral_density(omega,EJ,EC,EL,flux) + spectral_density(-omega,EJ,EC,EL,flux)\n",
    "        )\n",
    "        \n",
    "        rate = torch.matmul(noise_op,ground.unsqueeze(0).T)\n",
    "        rate = torch.matmul(excited.unsqueeze(0).conj(),rate)\n",
    "        rate = torch.abs(rate) **2 * s\n",
    "        #print(torch.abs(torch.matmul(excited.unsqueeze(0).conj(),torch.matmul(noise_op,ground.unsqueeze(0).T))))\n",
    "\n",
    "        return rate"
   ]
  },
  {
   "cell_type": "code",
   "execution_count": 13,
   "metadata": {},
   "outputs": [
    {
     "name": "stdout",
     "output_type": "stream",
     "text": [
      "tensor([[6450370.6882]], dtype=torch.float64, grad_fn=<MulBackward0>)\n"
     ]
    },
    {
     "data": {
      "text/plain": [
       "tensor([-890552.5026], dtype=torch.float64)"
      ]
     },
     "execution_count": 13,
     "metadata": {},
     "output_type": "execute_result"
    }
   ],
   "source": [
    "#TENSORS\n",
    "\n",
    "# PART 0 - INPUT\n",
    "\n",
    "EJ = torch.tensor([8.9], requires_grad=True, dtype=torch.double)\n",
    "EC = torch.tensor([2.5], requires_grad=True, dtype=torch.double)\n",
    "EL = torch.tensor([0.5], requires_grad=True, dtype=torch.double)\n",
    "flux = torch.tensor([0.5], requires_grad=True, dtype=torch.double)\n",
    "\n",
    "dim = 110\n",
    "\n",
    "# PART 1 - GET HAMILTONIAN\n",
    "\n",
    "plasma_energy = math.sqrt(8.0*EL*EC)\n",
    "diag_elements = [(i + 0.5) for i in range(dim)]\n",
    "lc_osc = torch.tensor(np.diag(diag_elements),dtype=torch.double)\n",
    "lc_osc = lc_osc * plasma_energy\n",
    "\n",
    "phi_osc = (8.0 * EC / EL) ** 0.25\n",
    "phi = (\n",
    "        (torch.tensor(creation(dim),dtype=torch.double) + torch.tensor(annihilation(dim),dtype=torch.double))\n",
    "        * phi_osc/ math.sqrt(2)\n",
    "    )\n",
    "\n",
    "argument = phi + 2 * np.pi * flux * torch.tensor(np.eye(dim),dtype=torch.double)\n",
    "\n",
    "cos_phi = (torch.linalg.matrix_exp(argument*1j)+torch.linalg.matrix_exp(argument*-1j))/2\n",
    "sin_phi = (torch.linalg.matrix_exp(argument*1j)-torch.linalg.matrix_exp(argument*-1j))/2j\n",
    "\n",
    "n_op = (\n",
    "            1j\n",
    "            * (torch.tensor(creation(dim),dtype=torch.double) - torch.tensor(annihilation(dim),dtype=torch.double))\n",
    "            / (phi_osc * math.sqrt(2))\n",
    "        )\n",
    "\n",
    "d_ham_d_flux = -2 * np.pi * EJ * sin_phi\n",
    "\n",
    "H = lc_osc - EJ*cos_phi\n",
    "#H = torch.triu(H, diagonal=1).T + torch.triu(H)\n",
    "#H.to(torch.double)\n",
    "\n",
    "#PART 2 - Get eigenvalues\n",
    "\n",
    "eigvals,eigvecs = torch.linalg.eigh(H,UPLO='U')\n",
    "\n",
    "# PART 3 - Find rate\n",
    "\n",
    "t1_rate = torch.zeros([1,1],dtype=torch.double)\n",
    "\n",
    "#3.1 t1_capacitive\n",
    "\n",
    "#t1_rate += t1(n_op, spectral_density_cap, eigvals, eigvecs, EJ, EC, EL, flux)\n",
    "\n",
    "#3.2 t1_charge_impedance\n",
    "\n",
    "#t1_rate += t1(n_op, spectral_density_ci, eigvals, eigvecs, EJ, EC, EL, flux)\n",
    "\n",
    "#3.3 t1_flux_bias_line\n",
    "\n",
    "#t1_rate += t1(d_ham_d_flux, spectral_density_fbl, eigvals, eigvecs, EJ, EC, EL, flux)\n",
    "\n",
    "#3.4 t1_inductive\n",
    "\n",
    "t1_rate += t1(phi.to(torch.cdouble), spectral_density_ind, eigvals, eigvecs, EJ, EC, EL, flux)\n",
    "\n",
    "#3.5 t1_quasiparticle_tunneling\n",
    "\n",
    "\n",
    "\n",
    "# PART 4 - Get time\n",
    "\n",
    "T1 = 1/t1_rate\n",
    "\n",
    "#and now autograd\n",
    "\n",
    "T1.backward()\n",
    "print(T1)\n",
    "EC.grad\n",
    "\n",
    "#get to boundary, ignore component pointing out\n",
    "\n"
   ]
  },
  {
   "cell_type": "code",
   "execution_count": 147,
   "metadata": {},
   "outputs": [
    {
     "data": {
      "text/plain": [
       "5489540.611565284"
      ]
     },
     "execution_count": 147,
     "metadata": {},
     "output_type": "execute_result"
    }
   ],
   "source": [
    "import scqubits as scq\n",
    "import scqubits.core.noise as noise\n",
    "import scqubits.core.units as units\n",
    "import numpy as np\n",
    "import torch\n",
    "from numpy import ndarray\n",
    "import math\n",
    "\n",
    "\n",
    "fluxonium = scq.Fluxonium(EJ = 8.9,\n",
    "                               EC = 2.5,\n",
    "                               EL = 0.5,\n",
    "                               flux = 0.5,\n",
    "                               cutoff = 110)\n",
    "\n",
    "fluxonium.t1_inductive(get_rate=False)"
   ]
  }
 ],
 "metadata": {
  "kernelspec": {
   "display_name": "Python 3",
   "language": "python",
   "name": "python3"
  },
  "language_info": {
   "codemirror_mode": {
    "name": "ipython",
    "version": 3
   },
   "file_extension": ".py",
   "mimetype": "text/x-python",
   "name": "python",
   "nbconvert_exporter": "python",
   "pygments_lexer": "ipython3",
   "version": "3.10.0"
  },
  "orig_nbformat": 4
 },
 "nbformat": 4,
 "nbformat_minor": 2
}
